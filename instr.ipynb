{
  "nbformat": 4,
  "nbformat_minor": 0,
  "metadata": {
    "colab": {
      "provenance": []
    },
    "kernelspec": {
      "name": "python3",
      "display_name": "Python 3"
    },
    "language_info": {
      "name": "python"
    }
  },
  "cells": [
    {
      "cell_type": "code",
      "execution_count": null,
      "metadata": {
        "colab": {
          "base_uri": "https://localhost:8080/"
        },
        "id": "CKtQTzgkkrcf",
        "outputId": "1d2d12bf-bd29-4b59-c53b-e1ea4efdd2b6"
      },
      "outputs": [
        {
          "output_type": "stream",
          "name": "stdout",
          "text": [
            "   Course_code  Hours    Instructor\n",
            "0     YCBS_255     30   Instructor1\n",
            "1     YCBS_256     30   Instructor2\n",
            "2     YCBS_257     35   Instructor3\n",
            "3     YCBS_258     35   Instructor4\n",
            "4     YCBS_299     30   Instructor5\n",
            "5     YCBS_300     10   Instructor6\n",
            "6     YCBS_301      5   Instructor7\n",
            "7     YCBS_302     15   Instructor8\n",
            "8     YCBS_303     20   Instructor9\n",
            "9     YCBS_304     30  Instructor10\n",
            "10    YCBS_305     35  Instructor11\n",
            "11    YCBS_306     20  Instructor12\n",
            "12    YCBS_307     25  Instructor13\n",
            "13    YCBS_308      5  Instructor14\n",
            "14    YCBS_309     15  Instructor15\n",
            "15    YCBS_310     30  Instructor16\n",
            "16    YCBS_311     35  Instructor17\n",
            "17    YCBS_312     30  Instructor18\n",
            "18    YCBS_313     25  Instructor19\n"
          ]
        }
      ],
      "source": [
        "\n",
        "import pandas as pd\n",
        "# uploading the first data set that contain instructor names, courses they are teaching, as well as the number of hours per course\n",
        "instructors = pd.read_csv('Instructors.csv')\n",
        "\n",
        "# uploading the second data set that contains the scheduled courses and their days of the week in one term\n",
        "days = pd.read_csv('Days.csv')\n",
        "print(instructors)"
      ]
    },
    {
      "cell_type": "code",
      "source": [
        "print(days)"
      ],
      "metadata": {
        "colab": {
          "base_uri": "https://localhost:8080/"
        },
        "id": "FBh4OYQplMMj",
        "outputId": "09922e41-f2e7-4d45-f8a9-711d4ee93a52"
      },
      "execution_count": null,
      "outputs": [
        {
          "output_type": "stream",
          "name": "stdout",
          "text": [
            "   Course_code       Days\n",
            "0     YCBS_255     Monday\n",
            "1     YCBS_256    Tuesday\n",
            "2     YCBS_257  Wednesday\n",
            "3     YCBS_258   Thursday\n",
            "4     YCBS_299     Friday\n",
            "5     YCBS_300     Monday\n",
            "6     YCBS_301    Tuesday\n",
            "7     YCBS_302  Wednesday\n",
            "8     YCBS_303   Thursday\n",
            "9     YCBS_304     Friday\n",
            "10    YCBS_305     Monday\n",
            "11    YCBS_306    Tuesday\n",
            "12    YCBS_307  Wednesday\n",
            "13    YCBS_308   Thursday\n",
            "14    YCBS_309     Friday\n",
            "15    YCBS_310     Monday\n",
            "16    YCBS_311    Tuesday\n",
            "17    YCBS_312  Wednesday\n",
            "18    YCBS_313     Monday\n"
          ]
        }
      ]
    },
    {
      "cell_type": "code",
      "source": [
        "# merging the 2 data sets on the course_code column\n",
        "\n",
        "pd.merge (instructors, days, on='Course_code', how='outer')\n"
      ],
      "metadata": {
        "colab": {
          "base_uri": "https://localhost:8080/",
          "height": 627
        },
        "id": "JYiI_WqSlZsm",
        "outputId": "9c045e05-d693-44a1-9e94-e266e0806d3d"
      },
      "execution_count": null,
      "outputs": [
        {
          "output_type": "execute_result",
          "data": {
            "text/plain": [
              "   Course_code  Hours    Instructor       Days\n",
              "0     YCBS_255     30   Instructor1     Monday\n",
              "1     YCBS_256     30   Instructor2    Tuesday\n",
              "2     YCBS_257     35   Instructor3  Wednesday\n",
              "3     YCBS_258     35   Instructor4   Thursday\n",
              "4     YCBS_299     30   Instructor5     Friday\n",
              "5     YCBS_300     10   Instructor6     Monday\n",
              "6     YCBS_301      5   Instructor7    Tuesday\n",
              "7     YCBS_302     15   Instructor8  Wednesday\n",
              "8     YCBS_303     20   Instructor9   Thursday\n",
              "9     YCBS_304     30  Instructor10     Friday\n",
              "10    YCBS_305     35  Instructor11     Monday\n",
              "11    YCBS_306     20  Instructor12    Tuesday\n",
              "12    YCBS_307     25  Instructor13  Wednesday\n",
              "13    YCBS_308      5  Instructor14   Thursday\n",
              "14    YCBS_309     15  Instructor15     Friday\n",
              "15    YCBS_310     30  Instructor16     Monday\n",
              "16    YCBS_311     35  Instructor17    Tuesday\n",
              "17    YCBS_312     30  Instructor18  Wednesday\n",
              "18    YCBS_313     25  Instructor19     Monday"
            ],
            "text/html": [
              "\n",
              "  <div id=\"df-60fd1d50-7c93-43b2-ac8e-49c61eb151a1\">\n",
              "    <div class=\"colab-df-container\">\n",
              "      <div>\n",
              "<style scoped>\n",
              "    .dataframe tbody tr th:only-of-type {\n",
              "        vertical-align: middle;\n",
              "    }\n",
              "\n",
              "    .dataframe tbody tr th {\n",
              "        vertical-align: top;\n",
              "    }\n",
              "\n",
              "    .dataframe thead th {\n",
              "        text-align: right;\n",
              "    }\n",
              "</style>\n",
              "<table border=\"1\" class=\"dataframe\">\n",
              "  <thead>\n",
              "    <tr style=\"text-align: right;\">\n",
              "      <th></th>\n",
              "      <th>Course_code</th>\n",
              "      <th>Hours</th>\n",
              "      <th>Instructor</th>\n",
              "      <th>Days</th>\n",
              "    </tr>\n",
              "  </thead>\n",
              "  <tbody>\n",
              "    <tr>\n",
              "      <th>0</th>\n",
              "      <td>YCBS_255</td>\n",
              "      <td>30</td>\n",
              "      <td>Instructor1</td>\n",
              "      <td>Monday</td>\n",
              "    </tr>\n",
              "    <tr>\n",
              "      <th>1</th>\n",
              "      <td>YCBS_256</td>\n",
              "      <td>30</td>\n",
              "      <td>Instructor2</td>\n",
              "      <td>Tuesday</td>\n",
              "    </tr>\n",
              "    <tr>\n",
              "      <th>2</th>\n",
              "      <td>YCBS_257</td>\n",
              "      <td>35</td>\n",
              "      <td>Instructor3</td>\n",
              "      <td>Wednesday</td>\n",
              "    </tr>\n",
              "    <tr>\n",
              "      <th>3</th>\n",
              "      <td>YCBS_258</td>\n",
              "      <td>35</td>\n",
              "      <td>Instructor4</td>\n",
              "      <td>Thursday</td>\n",
              "    </tr>\n",
              "    <tr>\n",
              "      <th>4</th>\n",
              "      <td>YCBS_299</td>\n",
              "      <td>30</td>\n",
              "      <td>Instructor5</td>\n",
              "      <td>Friday</td>\n",
              "    </tr>\n",
              "    <tr>\n",
              "      <th>5</th>\n",
              "      <td>YCBS_300</td>\n",
              "      <td>10</td>\n",
              "      <td>Instructor6</td>\n",
              "      <td>Monday</td>\n",
              "    </tr>\n",
              "    <tr>\n",
              "      <th>6</th>\n",
              "      <td>YCBS_301</td>\n",
              "      <td>5</td>\n",
              "      <td>Instructor7</td>\n",
              "      <td>Tuesday</td>\n",
              "    </tr>\n",
              "    <tr>\n",
              "      <th>7</th>\n",
              "      <td>YCBS_302</td>\n",
              "      <td>15</td>\n",
              "      <td>Instructor8</td>\n",
              "      <td>Wednesday</td>\n",
              "    </tr>\n",
              "    <tr>\n",
              "      <th>8</th>\n",
              "      <td>YCBS_303</td>\n",
              "      <td>20</td>\n",
              "      <td>Instructor9</td>\n",
              "      <td>Thursday</td>\n",
              "    </tr>\n",
              "    <tr>\n",
              "      <th>9</th>\n",
              "      <td>YCBS_304</td>\n",
              "      <td>30</td>\n",
              "      <td>Instructor10</td>\n",
              "      <td>Friday</td>\n",
              "    </tr>\n",
              "    <tr>\n",
              "      <th>10</th>\n",
              "      <td>YCBS_305</td>\n",
              "      <td>35</td>\n",
              "      <td>Instructor11</td>\n",
              "      <td>Monday</td>\n",
              "    </tr>\n",
              "    <tr>\n",
              "      <th>11</th>\n",
              "      <td>YCBS_306</td>\n",
              "      <td>20</td>\n",
              "      <td>Instructor12</td>\n",
              "      <td>Tuesday</td>\n",
              "    </tr>\n",
              "    <tr>\n",
              "      <th>12</th>\n",
              "      <td>YCBS_307</td>\n",
              "      <td>25</td>\n",
              "      <td>Instructor13</td>\n",
              "      <td>Wednesday</td>\n",
              "    </tr>\n",
              "    <tr>\n",
              "      <th>13</th>\n",
              "      <td>YCBS_308</td>\n",
              "      <td>5</td>\n",
              "      <td>Instructor14</td>\n",
              "      <td>Thursday</td>\n",
              "    </tr>\n",
              "    <tr>\n",
              "      <th>14</th>\n",
              "      <td>YCBS_309</td>\n",
              "      <td>15</td>\n",
              "      <td>Instructor15</td>\n",
              "      <td>Friday</td>\n",
              "    </tr>\n",
              "    <tr>\n",
              "      <th>15</th>\n",
              "      <td>YCBS_310</td>\n",
              "      <td>30</td>\n",
              "      <td>Instructor16</td>\n",
              "      <td>Monday</td>\n",
              "    </tr>\n",
              "    <tr>\n",
              "      <th>16</th>\n",
              "      <td>YCBS_311</td>\n",
              "      <td>35</td>\n",
              "      <td>Instructor17</td>\n",
              "      <td>Tuesday</td>\n",
              "    </tr>\n",
              "    <tr>\n",
              "      <th>17</th>\n",
              "      <td>YCBS_312</td>\n",
              "      <td>30</td>\n",
              "      <td>Instructor18</td>\n",
              "      <td>Wednesday</td>\n",
              "    </tr>\n",
              "    <tr>\n",
              "      <th>18</th>\n",
              "      <td>YCBS_313</td>\n",
              "      <td>25</td>\n",
              "      <td>Instructor19</td>\n",
              "      <td>Monday</td>\n",
              "    </tr>\n",
              "  </tbody>\n",
              "</table>\n",
              "</div>\n",
              "      <button class=\"colab-df-convert\" onclick=\"convertToInteractive('df-60fd1d50-7c93-43b2-ac8e-49c61eb151a1')\"\n",
              "              title=\"Convert this dataframe to an interactive table.\"\n",
              "              style=\"display:none;\">\n",
              "        \n",
              "  <svg xmlns=\"http://www.w3.org/2000/svg\" height=\"24px\"viewBox=\"0 0 24 24\"\n",
              "       width=\"24px\">\n",
              "    <path d=\"M0 0h24v24H0V0z\" fill=\"none\"/>\n",
              "    <path d=\"M18.56 5.44l.94 2.06.94-2.06 2.06-.94-2.06-.94-.94-2.06-.94 2.06-2.06.94zm-11 1L8.5 8.5l.94-2.06 2.06-.94-2.06-.94L8.5 2.5l-.94 2.06-2.06.94zm10 10l.94 2.06.94-2.06 2.06-.94-2.06-.94-.94-2.06-.94 2.06-2.06.94z\"/><path d=\"M17.41 7.96l-1.37-1.37c-.4-.4-.92-.59-1.43-.59-.52 0-1.04.2-1.43.59L10.3 9.45l-7.72 7.72c-.78.78-.78 2.05 0 2.83L4 21.41c.39.39.9.59 1.41.59.51 0 1.02-.2 1.41-.59l7.78-7.78 2.81-2.81c.8-.78.8-2.07 0-2.86zM5.41 20L4 18.59l7.72-7.72 1.47 1.35L5.41 20z\"/>\n",
              "  </svg>\n",
              "      </button>\n",
              "      \n",
              "  <style>\n",
              "    .colab-df-container {\n",
              "      display:flex;\n",
              "      flex-wrap:wrap;\n",
              "      gap: 12px;\n",
              "    }\n",
              "\n",
              "    .colab-df-convert {\n",
              "      background-color: #E8F0FE;\n",
              "      border: none;\n",
              "      border-radius: 50%;\n",
              "      cursor: pointer;\n",
              "      display: none;\n",
              "      fill: #1967D2;\n",
              "      height: 32px;\n",
              "      padding: 0 0 0 0;\n",
              "      width: 32px;\n",
              "    }\n",
              "\n",
              "    .colab-df-convert:hover {\n",
              "      background-color: #E2EBFA;\n",
              "      box-shadow: 0px 1px 2px rgba(60, 64, 67, 0.3), 0px 1px 3px 1px rgba(60, 64, 67, 0.15);\n",
              "      fill: #174EA6;\n",
              "    }\n",
              "\n",
              "    [theme=dark] .colab-df-convert {\n",
              "      background-color: #3B4455;\n",
              "      fill: #D2E3FC;\n",
              "    }\n",
              "\n",
              "    [theme=dark] .colab-df-convert:hover {\n",
              "      background-color: #434B5C;\n",
              "      box-shadow: 0px 1px 3px 1px rgba(0, 0, 0, 0.15);\n",
              "      filter: drop-shadow(0px 1px 2px rgba(0, 0, 0, 0.3));\n",
              "      fill: #FFFFFF;\n",
              "    }\n",
              "  </style>\n",
              "\n",
              "      <script>\n",
              "        const buttonEl =\n",
              "          document.querySelector('#df-60fd1d50-7c93-43b2-ac8e-49c61eb151a1 button.colab-df-convert');\n",
              "        buttonEl.style.display =\n",
              "          google.colab.kernel.accessAllowed ? 'block' : 'none';\n",
              "\n",
              "        async function convertToInteractive(key) {\n",
              "          const element = document.querySelector('#df-60fd1d50-7c93-43b2-ac8e-49c61eb151a1');\n",
              "          const dataTable =\n",
              "            await google.colab.kernel.invokeFunction('convertToInteractive',\n",
              "                                                     [key], {});\n",
              "          if (!dataTable) return;\n",
              "\n",
              "          const docLinkHtml = 'Like what you see? Visit the ' +\n",
              "            '<a target=\"_blank\" href=https://colab.research.google.com/notebooks/data_table.ipynb>data table notebook</a>'\n",
              "            + ' to learn more about interactive tables.';\n",
              "          element.innerHTML = '';\n",
              "          dataTable['output_type'] = 'display_data';\n",
              "          await google.colab.output.renderOutput(dataTable, element);\n",
              "          const docLink = document.createElement('div');\n",
              "          docLink.innerHTML = docLinkHtml;\n",
              "          element.appendChild(docLink);\n",
              "        }\n",
              "      </script>\n",
              "    </div>\n",
              "  </div>\n",
              "  "
            ]
          },
          "metadata": {},
          "execution_count": 41
        }
      ]
    },
    {
      "cell_type": "code",
      "source": [
        "# creating a new column and calculating the pay based on the number of hours\n",
        "\n",
        "instructors['Pay'] = (instructors['Hours'])*100\n",
        "print(instructors)"
      ],
      "metadata": {
        "colab": {
          "base_uri": "https://localhost:8080/"
        },
        "id": "8LP9aubdmbIb",
        "outputId": "1be01b2f-bc57-4d0a-ce63-90330f6cb7b2"
      },
      "execution_count": null,
      "outputs": [
        {
          "output_type": "stream",
          "name": "stdout",
          "text": [
            "   Course_code  Hours    Instructor   Pay\n",
            "0     YCBS_255     30   Instructor1  3000\n",
            "1     YCBS_256     30   Instructor2  3000\n",
            "2     YCBS_257     35   Instructor3  3500\n",
            "3     YCBS_258     35   Instructor4  3500\n",
            "4     YCBS_299     30   Instructor5  3000\n",
            "5     YCBS_300     10   Instructor6  1000\n",
            "6     YCBS_301      5   Instructor7   500\n",
            "7     YCBS_302     15   Instructor8  1500\n",
            "8     YCBS_303     20   Instructor9  2000\n",
            "9     YCBS_304     30  Instructor10  3000\n",
            "10    YCBS_305     35  Instructor11  3500\n",
            "11    YCBS_306     20  Instructor12  2000\n",
            "12    YCBS_307     25  Instructor13  2500\n",
            "13    YCBS_308      5  Instructor14   500\n",
            "14    YCBS_309     15  Instructor15  1500\n",
            "15    YCBS_310     30  Instructor16  3000\n",
            "16    YCBS_311     35  Instructor17  3500\n",
            "17    YCBS_312     30  Instructor18  3000\n",
            "18    YCBS_313     25  Instructor19  2500\n"
          ]
        }
      ]
    },
    {
      "cell_type": "code",
      "source": [
        "# uploading a third data set with the schedule from the database in order to compare it to the schedule in the previous document\n",
        "schedule = pd.read_csv('Days3.csv')"
      ],
      "metadata": {
        "id": "Lk6-uSKSpQKq"
      },
      "execution_count": null,
      "outputs": []
    },
    {
      "cell_type": "code",
      "source": [
        "print(schedule)"
      ],
      "metadata": {
        "colab": {
          "base_uri": "https://localhost:8080/"
        },
        "id": "Twl5MoV3ptQG",
        "outputId": "1a99a970-be93-4bd8-ce42-8ccc8cb02fdb"
      },
      "execution_count": null,
      "outputs": [
        {
          "output_type": "stream",
          "name": "stdout",
          "text": [
            "   Course_code       Days2\n",
            "0     YCBS_255      Monday\n",
            "1     YCBS_256     Tuesday\n",
            "2     YCBS_257     Tuesday\n",
            "3     YCBS_258   Wednesday\n",
            "4     YCBS_299      Friday\n",
            "5     YCBS_300    Saturday\n",
            "6     YCBS_301      Monday\n",
            "7     YCBS_302  Wednesday \n",
            "8     YCBS_303    Thursday\n",
            "9     YCBS_304      Friday\n",
            "10    YCBS_305    Saturday\n",
            "11    YCBS_306    Tuesday \n",
            "12    YCBS_307   Wednesday\n",
            "13    YCBS_308    Thursday\n",
            "14    YCBS_309      Friday\n",
            "15    YCBS_310      Monday\n",
            "16    YCBS_311    Saturday\n",
            "17    YCBS_312   Wednesday\n",
            "18    YCBS_313    Thursday\n"
          ]
        }
      ]
    },
    {
      "cell_type": "code",
      "source": [
        "# merging the original schedule in \"Days\" and the schedule from the system on Course_code\n",
        "schedule_days = pd.merge (days, schedule, on='Course_code', how='outer')"
      ],
      "metadata": {
        "id": "mHb90M__pe2-"
      },
      "execution_count": null,
      "outputs": []
    },
    {
      "cell_type": "code",
      "source": [
        "# new file\n",
        "print(schedule_days)"
      ],
      "metadata": {
        "colab": {
          "base_uri": "https://localhost:8080/"
        },
        "id": "WYZUPQF9rI3p",
        "outputId": "58585046-2fb9-413d-95c6-a4329f8de5f4"
      },
      "execution_count": null,
      "outputs": [
        {
          "output_type": "stream",
          "name": "stdout",
          "text": [
            "   Course_code       Days       Days2\n",
            "0     YCBS_255     Monday      Monday\n",
            "1     YCBS_256    Tuesday     Tuesday\n",
            "2     YCBS_257  Wednesday     Tuesday\n",
            "3     YCBS_258   Thursday   Wednesday\n",
            "4     YCBS_299     Friday      Friday\n",
            "5     YCBS_300     Monday    Saturday\n",
            "6     YCBS_301    Tuesday      Monday\n",
            "7     YCBS_302  Wednesday  Wednesday \n",
            "8     YCBS_303   Thursday    Thursday\n",
            "9     YCBS_304     Friday      Friday\n",
            "10    YCBS_305     Monday    Saturday\n",
            "11    YCBS_306    Tuesday    Tuesday \n",
            "12    YCBS_307  Wednesday   Wednesday\n",
            "13    YCBS_308   Thursday    Thursday\n",
            "14    YCBS_309     Friday      Friday\n",
            "15    YCBS_310     Monday      Monday\n",
            "16    YCBS_311    Tuesday    Saturday\n",
            "17    YCBS_312  Wednesday   Wednesday\n",
            "18    YCBS_313     Monday    Thursday\n"
          ]
        }
      ]
    },
    {
      "cell_type": "code",
      "source": [
        "# validating the schedule. Those courses that don't have matching days of the week will need to be corrected.\n",
        "print(schedule_days['Days']==(schedule_days['Days2']))"
      ],
      "metadata": {
        "colab": {
          "base_uri": "https://localhost:8080/"
        },
        "id": "7uvfWVnhpdQO",
        "outputId": "36146580-a47a-4ea8-a22a-8dd885101991"
      },
      "execution_count": null,
      "outputs": [
        {
          "output_type": "stream",
          "name": "stdout",
          "text": [
            "0      True\n",
            "1      True\n",
            "2     False\n",
            "3     False\n",
            "4      True\n",
            "5     False\n",
            "6     False\n",
            "7     False\n",
            "8      True\n",
            "9      True\n",
            "10    False\n",
            "11    False\n",
            "12     True\n",
            "13     True\n",
            "14     True\n",
            "15     True\n",
            "16    False\n",
            "17     True\n",
            "18    False\n",
            "dtype: bool\n"
          ]
        }
      ]
    }
  ]
}